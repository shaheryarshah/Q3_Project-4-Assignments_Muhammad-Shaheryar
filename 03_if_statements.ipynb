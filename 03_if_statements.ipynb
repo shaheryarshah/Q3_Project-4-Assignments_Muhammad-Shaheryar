{
  "nbformat": 4,
  "nbformat_minor": 0,
  "metadata": {
    "colab": {
      "provenance": [],
      "authorship_tag": "ABX9TyMO/bIinM+W6X6iseRihl3+",
      "include_colab_link": true
    },
    "kernelspec": {
      "name": "python3",
      "display_name": "Python 3"
    },
    "language_info": {
      "name": "python"
    }
  },
  "cells": [
    {
      "cell_type": "markdown",
      "metadata": {
        "id": "view-in-github",
        "colab_type": "text"
      },
      "source": [
        "<a href=\"https://colab.research.google.com/github/shaheryarshah/Q3_Project-4-Assignments_Muhammad-Shaheryar/blob/main/03_if_statements.ipynb\" target=\"_parent\"><img src=\"https://colab.research.google.com/assets/colab-badge.svg\" alt=\"Open In Colab\"/></a>"
      ]
    },
    {
      "cell_type": "code",
      "execution_count": 4,
      "metadata": {
        "colab": {
          "base_uri": "https://localhost:8080/"
        },
        "id": "koQswIuUrXQD",
        "outputId": "f233d48d-8e40-475b-a702-25b6326cfd90"
      },
      "outputs": [
        {
          "output_type": "stream",
          "name": "stdout",
          "text": [
            "01_print_events\n",
            "0\n",
            "2\n",
            "4\n",
            "6\n",
            "8\n",
            "10\n",
            "12\n",
            "14\n",
            "16\n",
            "18\n",
            "20\n",
            "22\n",
            "24\n",
            "26\n",
            "28\n",
            "30\n",
            "32\n",
            "34\n",
            "36\n",
            "38\n"
          ]
        }
      ],
      "source": [
        "print(\"01_print_events\")\n",
        "\n",
        "def even():\n",
        "  for i in range(20):\n",
        "    print(i*2)\n",
        "\n",
        "if __name__ == \"__main__\":\n",
        "  even()"
      ]
    },
    {
      "cell_type": "code",
      "source": [
        "print(\"02_international_voting_age\")\n",
        "\n",
        "Peturksbouipo:int = 16\n",
        "Stanlau:int = 25\n",
        "Mayengua:int = 48\n",
        "\n",
        "age:int = int(input(\"enter your age. \"))\n",
        "\n",
        "def main():\n",
        "\n",
        "\n",
        "  if age >= Peturksbouipo:\n",
        "    print(f'your age is {age}, you are eligible to vote')\n",
        "  else:\n",
        "    print(f'your age is {age}, you are not eligible to vote in Peturksbouipo country ')\n",
        "\n",
        "\n",
        "if age >= Stanlau:\n",
        "    print(f'your age is {age}, you are eligible to vote')\n",
        "else:\n",
        "    print(f'your age is {age}, you are not eligible to vote in Stanlau country ')\n",
        "\n",
        "\n",
        "if age >= Mayengua:\n",
        "    print(f'your age is {age}, you are eligible to vote')\n",
        "else:\n",
        "    print(f'your age is {age}, you are not eligible to vote in Mayengua country ')\n",
        "\n",
        "if __name__ == \"__main__\":\n",
        "  main()"
      ],
      "metadata": {
        "colab": {
          "base_uri": "https://localhost:8080/"
        },
        "id": "_ALWdSYJsJew",
        "outputId": "bfcb1eeb-cff9-4214-862c-2a1278d12ec3"
      },
      "execution_count": 15,
      "outputs": [
        {
          "output_type": "stream",
          "name": "stdout",
          "text": [
            "02_international_voting_age\n",
            "enter your age. 16\n",
            "your age is 16, you are not eligible to vote in Stanlau country \n",
            "your age is 16, you are not eligible to vote in Mayengua country \n",
            "your age is 16, you are eligible to vote\n"
          ]
        }
      ]
    },
    {
      "cell_type": "code",
      "source": [
        "print(\"03_leap_year\")\n",
        "\n",
        "def leap_year():\n",
        "\n",
        "  year:int = int(input(\"enter a year. \"))\n",
        "\n",
        "  if year % 4 == 0:\n",
        "    if year % 100 == 0:\n",
        "      if year % 400 == 0:\n",
        "        print(f'{year} is a leap year')\n",
        "      else:\n",
        "        print(f'{year} is a not a leap year')\n",
        "    else:\n",
        "       print(f'{year} is a not a leap year')\n",
        "  else:\n",
        "          print(f'{year} is a not a leap year')\n",
        "\n",
        "\n",
        "\n",
        "if __name__ == \"__main__\":\n",
        "  leap_year()\n"
      ],
      "metadata": {
        "colab": {
          "base_uri": "https://localhost:8080/"
        },
        "id": "lYc_oQK9wazn",
        "outputId": "0e8d7cd8-33a2-4e94-d204-680e5ff41c45"
      },
      "execution_count": 19,
      "outputs": [
        {
          "output_type": "stream",
          "name": "stdout",
          "text": [
            "03_leap_year\n",
            "enter a year. 2025\n",
            "2025 is a not a leap year\n"
          ]
        }
      ]
    },
    {
      "cell_type": "code",
      "source": [
        "print(\"04_tall_enough_to_ride\")\n",
        "\n",
        "minimum_height:int = 50\n",
        "def main():\n",
        "  user:int = int(input(\"how tall are you. \"))\n",
        "\n",
        "  if user >= minimum_height:\n",
        "    print(\"you are tall enough to ride\")\n",
        "  else:\n",
        "    print(\"you are not tall enough to ride\")\n",
        "\n",
        "if __name__ == \"__main__\":\n",
        "  main()"
      ],
      "metadata": {
        "colab": {
          "base_uri": "https://localhost:8080/"
        },
        "id": "M2FtOIfa2Mov",
        "outputId": "f522d982-cde9-4572-b2e4-d0cbbfb360a0"
      },
      "execution_count": 28,
      "outputs": [
        {
          "output_type": "stream",
          "name": "stdout",
          "text": [
            "04_tall_enough_to_ride\n",
            "how tall are you. 50\n",
            "you are tall enough to ride\n"
          ]
        }
      ]
    },
    {
      "cell_type": "code",
      "source": [
        "import random\n",
        "print(\"05_random_numbers\")\n",
        "\n",
        "def main ():\n",
        "  for i in range(10):\n",
        "    num:list = random.randint(1,100)\n",
        "    print(num)\n",
        "\n",
        "if __name__ == \"__main__\":\n",
        "  main()\n",
        "\n"
      ],
      "metadata": {
        "colab": {
          "base_uri": "https://localhost:8080/"
        },
        "id": "nTOizONR4KGm",
        "outputId": "97855893-6f8e-4fac-92d8-7788e47dd2d6"
      },
      "execution_count": 30,
      "outputs": [
        {
          "output_type": "stream",
          "name": "stdout",
          "text": [
            "05_random_numbers\n",
            "28\n",
            "14\n",
            "27\n",
            "46\n",
            "62\n",
            "56\n",
            "84\n",
            "82\n",
            "71\n",
            "9\n"
          ]
        }
      ]
    }
  ]
}