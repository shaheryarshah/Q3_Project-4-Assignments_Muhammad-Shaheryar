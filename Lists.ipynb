{
  "nbformat": 4,
  "nbformat_minor": 0,
  "metadata": {
    "colab": {
      "provenance": [],
      "authorship_tag": "ABX9TyMaefkPZ3wZ+ZLISh5e0dlu",
      "include_colab_link": true
    },
    "kernelspec": {
      "name": "python3",
      "display_name": "Python 3"
    },
    "language_info": {
      "name": "python"
    }
  },
  "cells": [
    {
      "cell_type": "markdown",
      "metadata": {
        "id": "view-in-github",
        "colab_type": "text"
      },
      "source": [
        "<a href=\"https://colab.research.google.com/github/shaheryarshah/Q3_Project-4-Assignments_Muhammad-Shaheryar/blob/main/Lists.ipynb\" target=\"_parent\"><img src=\"https://colab.research.google.com/assets/colab-badge.svg\" alt=\"Open In Colab\"/></a>"
      ]
    },
    {
      "cell_type": "code",
      "execution_count": null,
      "metadata": {
        "colab": {
          "base_uri": "https://localhost:8080/"
        },
        "id": "WZFfH27pq9l_",
        "outputId": "d22a8641-292c-42d3-f28a-1dffcb964a89"
      },
      "outputs": [
        {
          "output_type": "stream",
          "name": "stdout",
          "text": [
            "01_add_many_number\n",
            "15\n"
          ]
        }
      ],
      "source": [
        "print(\"01_add_many_number\")\n",
        "\n",
        "def add_number(numbers)->int:\n",
        "  num:int = 0\n",
        "  for i in numbers:\n",
        "    num += i\n",
        "  return num\n",
        "\n",
        "def main():\n",
        "  numbers:list [int] = [1,2,3,4,5]\n",
        "  sum = add_number(numbers)\n",
        "  print(sum)\n",
        "\n",
        "if __name__ == \"__main__\":\n",
        "  main()\n",
        "\n",
        "\n"
      ]
    },
    {
      "cell_type": "code",
      "source": [
        "print(\"02_double_list\")\n",
        "\n",
        "def main ():\n",
        "  numbers:list[int] = [1,2,3,4,5]\n",
        "  for i in range(len(numbers)):\n",
        "    index = numbers[i]\n",
        "    numbers[i] = index * 2\n",
        "  print(numbers)\n",
        "\n",
        "\n",
        "\n",
        "if __name__ == \"__main__\":\n",
        "  main()"
      ],
      "metadata": {
        "colab": {
          "base_uri": "https://localhost:8080/"
        },
        "id": "1PNW-3kivID_",
        "outputId": "e8843ba5-c27c-4c5c-b470-f4405f3302fb"
      },
      "execution_count": null,
      "outputs": [
        {
          "output_type": "stream",
          "name": "stdout",
          "text": [
            "02_double_list\n",
            "[2, 4, 6, 8, 10]\n"
          ]
        }
      ]
    },
    {
      "cell_type": "code",
      "source": [
        "print(\"04_flowing_with_data_structures\")\n",
        "\n",
        "def three_copies (lst,data):\n",
        "  for i in range(3):\n",
        "    lst.append(data)\n",
        "\n",
        "def main():\n",
        "  messege = input(\"enter a messege to copy.\" )\n",
        "  lst=[]\n",
        "  print(\"before list is\", lst)\n",
        "  three_copies(lst,messege)\n",
        "  print(\"after list is\", lst)\n",
        "\n",
        "\n",
        "if __name__ == \"__main__\":\n",
        "  main()\n"
      ],
      "metadata": {
        "colab": {
          "base_uri": "https://localhost:8080/"
        },
        "id": "c9YVPtIlxT1_",
        "outputId": "1d77273b-5f4d-4c70-8b43-e183ccafb11f"
      },
      "execution_count": null,
      "outputs": [
        {
          "output_type": "stream",
          "name": "stdout",
          "text": [
            "04_flowing_with_data_structures\n",
            "enter a messege to copy.pakistan\n",
            "before list is []\n",
            "after list is ['pakistan', 'pakistan', 'pakistan']\n"
          ]
        }
      ]
    },
    {
      "cell_type": "code",
      "source": [
        "print (\"05_get_first_element\")\n",
        "\n",
        "def get_first_element(lst):\n",
        "  print(lst[0])\n",
        "\n",
        "def get_lst():\n",
        "  lst=[]\n",
        "  elem:str = input(\"enter an element to add to the list. \")\n",
        "  while elem != \"\":\n",
        "    lst.append(elem)\n",
        "    elem = input(\"enter an element to add to the list. \")\n",
        "  return(lst)\n",
        "\n",
        "def main():\n",
        "  lst=get_lst()\n",
        "  get_first_element(lst)\n",
        "\n",
        "\n",
        "\n",
        "if __name__ == \"__main__\":\n",
        "  main()\n",
        "\n"
      ],
      "metadata": {
        "colab": {
          "base_uri": "https://localhost:8080/"
        },
        "id": "G_XbveCo0zhs",
        "outputId": "36b0fd65-8ba1-4897-fa6f-59a4588a3512"
      },
      "execution_count": null,
      "outputs": [
        {
          "output_type": "stream",
          "name": "stdout",
          "text": [
            "05_get_first_element\n",
            "enter an element to add to the list. s\n",
            "enter an element to add to the list. s\n",
            "enter an element to add to the list. f\n",
            "enter an element to add to the list. \n",
            "s\n"
          ]
        }
      ]
    },
    {
      "cell_type": "code",
      "source": [
        "print (\"06_get_Last_element\")\n",
        "\n",
        "def get_last_element(lst):\n",
        "  print(lst[-1])\n",
        "\n",
        "def get_lst():\n",
        "  lst=[]\n",
        "  elem:str = input(\"enter an element to add to the list. \")\n",
        "  while elem != \"\":\n",
        "    lst.append(elem)\n",
        "    elem = input(\"enter an element to add to the list. \")\n",
        "  return(lst)\n",
        "\n",
        "def main():\n",
        "  lst=get_lst()\n",
        "  get_last_element(lst)\n",
        "\n",
        "\n",
        "\n",
        "if __name__ == \"__main__\":\n",
        "  main()\n",
        "\n"
      ],
      "metadata": {
        "colab": {
          "base_uri": "https://localhost:8080/"
        },
        "id": "WbTmpUBn2zkO",
        "outputId": "db7b0cd8-0230-400e-cd9b-8f63f130f6d0"
      },
      "execution_count": null,
      "outputs": [
        {
          "output_type": "stream",
          "name": "stdout",
          "text": [
            "06_get_Last_element\n",
            "enter an element to add to the list. 5\n",
            "enter an element to add to the list. 5\n",
            "enter an element to add to the list. 4\n",
            "enter an element to add to the list. \n",
            "4\n"
          ]
        }
      ]
    },
    {
      "cell_type": "code",
      "source": [
        "print(\"07_get_list\")\n",
        "\n",
        "def main():\n",
        "  lst=[]\n",
        "  val = input(\"enter a value to add to the list. \")\n",
        "  while val != \"\":\n",
        "    lst.append(val)\n",
        "    val = input(\"enter a value to add to the list. \")\n",
        "  print(lst)\n",
        "\n",
        "if __name__ == \"__main__\":\n",
        "  main()"
      ],
      "metadata": {
        "colab": {
          "base_uri": "https://localhost:8080/"
        },
        "id": "9Nny3pqF4hvH",
        "outputId": "cb3a237b-0a0c-49bc-84d2-55158626e274"
      },
      "execution_count": null,
      "outputs": [
        {
          "output_type": "stream",
          "name": "stdout",
          "text": [
            "07_get_list\n",
            "enter a value to add to the list. 5\n",
            "enter a value to add to the list. 5\n",
            "enter a value to add to the list. 4\n",
            "enter a value to add to the list. 9\n",
            "enter a value to add to the list. \n",
            "['5', '5', '4', '9']\n"
          ]
        }
      ]
    },
    {
      "cell_type": "code",
      "source": [
        "print(\"08_shorten\")\n",
        "\n",
        "MAX_LENGTH:int = 3\n",
        "def shorten(lst):\n",
        "  while len(lst) > MAX_LENGTH:\n",
        "    last_element = lst.pop()\n",
        "    print(last_element)\n",
        "\n",
        "def get_lst ():\n",
        "  lst=[]\n",
        "  element = input(\"enter an element to add to the list. \")\n",
        "  while element != \"\":\n",
        "    lst.append(element)\n",
        "    element = input(\"enter an element to add to the list. \")\n",
        "  return lst\n",
        "\n",
        "def main():\n",
        "  lst = get_lst()\n",
        "  shorten(lst)\n",
        "\n",
        "\n",
        "if __name__ == \"__main__\":\n",
        "  main()\n"
      ],
      "metadata": {
        "colab": {
          "base_uri": "https://localhost:8080/"
        },
        "id": "8ru2w-Sn49gn",
        "outputId": "3f7e7fd8-80e1-4e85-e54c-2b9cf21e8770"
      },
      "execution_count": 1,
      "outputs": [
        {
          "output_type": "stream",
          "name": "stdout",
          "text": [
            "08_shorten\n",
            "enter an element to add to the list. A\n",
            "enter an element to add to the list. B\n",
            "enter an element to add to the list. C\n",
            "enter an element to add to the list. D\n",
            "enter an element to add to the list. E\n",
            "enter an element to add to the list. F\n",
            "enter an element to add to the list. G\n",
            "enter an element to add to the list. H\n",
            "enter an element to add to the list. I\n",
            "enter an element to add to the list. L\n",
            "enter an element to add to the list. \n",
            "L\n",
            "I\n",
            "H\n",
            "G\n",
            "F\n",
            "E\n",
            "D\n"
          ]
        }
      ]
    }
  ]
}