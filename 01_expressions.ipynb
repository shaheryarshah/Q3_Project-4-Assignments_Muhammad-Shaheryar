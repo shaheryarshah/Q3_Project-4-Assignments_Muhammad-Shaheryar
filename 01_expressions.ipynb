{
  "nbformat": 4,
  "nbformat_minor": 0,
  "metadata": {
    "colab": {
      "provenance": [],
      "authorship_tag": "ABX9TyOYrvoAmK3azxHiKX7mw4/e",
      "include_colab_link": true
    },
    "kernelspec": {
      "name": "python3",
      "display_name": "Python 3"
    },
    "language_info": {
      "name": "python"
    }
  },
  "cells": [
    {
      "cell_type": "markdown",
      "metadata": {
        "id": "view-in-github",
        "colab_type": "text"
      },
      "source": [
        "<a href=\"https://colab.research.google.com/github/shaheryarshah/Q3_Project-4-Assignments_Muhammad-Shaheryar/blob/main/01_expressions.ipynb\" target=\"_parent\"><img src=\"https://colab.research.google.com/assets/colab-badge.svg\" alt=\"Open In Colab\"/></a>"
      ]
    },
    {
      "cell_type": "code",
      "execution_count": 4,
      "metadata": {
        "colab": {
          "base_uri": "https://localhost:8080/"
        },
        "id": "uOitDkpVYNIv",
        "outputId": "89abb2e9-0270-477d-b5f9-51f35f232ff3"
      },
      "outputs": [
        {
          "output_type": "stream",
          "name": "stdout",
          "text": [
            "01_dicesimulator\n",
            "dice1 in main() start as: 10\n",
            "Total of two dice: 8\n",
            "Total of two dice: 6\n",
            "Total of two dice: 8\n",
            "diel in main() is: 10\n"
          ]
        }
      ],
      "source": [
        "import random\n",
        "print(\"01_dicesimulator\")\n",
        "\n",
        "def roll_dice():\n",
        "  dice1:int = random.randint(1,6)\n",
        "  dice2: int = random.randint(1,6)\n",
        "  total:int = dice1 + dice2\n",
        "  print (f'Total of two dice: {total}')\n",
        "def main():\n",
        "  dice1:int = 10\n",
        "  print(\"dice1 in main() start as: \" + str(dice1))\n",
        "  roll_dice()\n",
        "  roll_dice()\n",
        "  roll_dice()\n",
        "  print(\"diel in main() is: \" + str(dice1))\n",
        "\n",
        "if __name__ == \"__main__\":\n",
        "  main()\n",
        "\n"
      ]
    },
    {
      "cell_type": "code",
      "source": [
        "print(\"02_e=mc2\")\n",
        "\n",
        "def energy ():\n",
        "  c: float = 299792458\n",
        "  m: float = float (input(\"enter mass value \"))\n",
        "  print(\"e = m * C^2\")\n",
        "  print(\"mass =\" + str(m) + \" kg\")\n",
        "  print(\"c =\" + str(c) + \" m/s\")\n",
        "  print(\"e-\" + str(m * c ** 2) + \" juiels\")\n",
        "\n",
        "if __name__ == \"__main__\":\n",
        "  energy()\n"
      ],
      "metadata": {
        "colab": {
          "base_uri": "https://localhost:8080/"
        },
        "id": "4mmpfI-PdpYF",
        "outputId": "4b6a40aa-e5fb-4536-f272-8c00fc916529"
      },
      "execution_count": 12,
      "outputs": [
        {
          "output_type": "stream",
          "name": "stdout",
          "text": [
            "02_e=mc2\n",
            "enter mass value 450\n",
            "e = m * C^2\n",
            "mass =450.0 kg\n",
            "c =299792458 m/s\n",
            "e-4.0443983043156795e+19 juiels\n"
          ]
        }
      ]
    },
    {
      "cell_type": "code",
      "source": [
        "print(\"03_feet_to_inches\")\n",
        "\n",
        "inch: int = 12\n",
        "\n",
        "def feet():\n",
        "  feet: int = int(input(\"enter feet value to convert inches \"))\n",
        "  print(f\"{feet} feet is {feet * inch} inches\")\n",
        "\n",
        "if __name__ == \"__main__\":\n",
        "  feet()\n",
        "\n"
      ],
      "metadata": {
        "colab": {
          "base_uri": "https://localhost:8080/"
        },
        "id": "gaZFuSVEhVEr",
        "outputId": "8bc21065-a1f9-43f7-9de7-92de49b4a642"
      },
      "execution_count": 14,
      "outputs": [
        {
          "output_type": "stream",
          "name": "stdout",
          "text": [
            "03_feet_to_inches\n",
            "enter feet value to convert inches 1\n",
            "1 feet is 12 inches\n"
          ]
        }
      ]
    },
    {
      "cell_type": "code",
      "source": [
        "import math\n",
        "print(\"04_pythagorean_theorem\")\n",
        "\n",
        "def pythagorean():\n",
        "  AB: float = float(input(\"enter the legnth of side of triangle AB \"))\n",
        "  AC: float = float(input(\"enter the legnth of second side of triangle AC \"))\n",
        "  BC: float = math.sqrt(AB**2 + AC**2)\n",
        "  print(f\"the length of side BC is {BC}\")\n",
        "\n",
        "if __name__ == \"__main__\":\n",
        "  pythagorean()"
      ],
      "metadata": {
        "colab": {
          "base_uri": "https://localhost:8080/"
        },
        "id": "QZoIXQMIit7a",
        "outputId": "1de4eed0-47ac-494d-b9c7-bcee1e697e30"
      },
      "execution_count": 16,
      "outputs": [
        {
          "output_type": "stream",
          "name": "stdout",
          "text": [
            "04_pythagorean_theorem\n",
            "enter the legnth of side of triangle AB 4.9\n",
            "enter the legnth of second side of triangle AC 5.8\n",
            "the length of side BC is 7.592759709091287\n"
          ]
        }
      ]
    },
    {
      "cell_type": "code",
      "source": [
        "print(\"05_remainder_division\")\n",
        "\n",
        "def remainder():\n",
        "  num1: int = int(input(\"Please enter an first integer number to be divided \"))\n",
        "  num2: int = int(input(\"Please enter an second integer number to be divided \"))\n",
        "  quotient:int = num1 // num2\n",
        "  remainder:int = num1 % num2\n",
        "  print(f'the result of this division is {quotient} with a reminder of {remainder}')\n",
        "\n",
        "\n",
        "if __name__ == \"__main__\":\n",
        "  remainder()"
      ],
      "metadata": {
        "colab": {
          "base_uri": "https://localhost:8080/"
        },
        "id": "gZw4draZkdKZ",
        "outputId": "68df2af5-b431-47e2-f1de-e3c2903bd487"
      },
      "execution_count": 18,
      "outputs": [
        {
          "output_type": "stream",
          "name": "stdout",
          "text": [
            "05_remainder_division\n",
            "Please enter an first integer number to be divided 45\n",
            "Please enter an second integer number to be divided 2\n",
            "the result of this division is 22 with a reminder of 1\n"
          ]
        }
      ]
    },
    {
      "cell_type": "code",
      "source": [
        "import random\n",
        "print(\"06_rolldice\")\n",
        "\n",
        "def dice():\n",
        "  dice1: int = random.randint(1,6)\n",
        "  dice2: int = random.randint(1,6)\n",
        "  Total: int = dice1 + dice2\n",
        "  print(\"first dice number is\" + str(dice1))\n",
        "  print(\"second dice number is\" + str(dice2))\n",
        "\n",
        "  print(f'Total of two dice: {Total}')\n",
        "\n",
        "\n",
        "if __name__ == \"__main__\":\n",
        "  dice()\n",
        "\n"
      ],
      "metadata": {
        "colab": {
          "base_uri": "https://localhost:8080/"
        },
        "id": "-k-smxvWnr7A",
        "outputId": "bb8fec75-4e29-4662-998e-45a8f4392403"
      },
      "execution_count": 27,
      "outputs": [
        {
          "output_type": "stream",
          "name": "stdout",
          "text": [
            "06_rolldice\n",
            "first dice number is3\n",
            "second dice number is6\n",
            "Total of two dice: 9\n"
          ]
        }
      ]
    },
    {
      "cell_type": "code",
      "source": [
        "print(\"06_seconds_in_year\")\n",
        "\n",
        "day:int = int (365)\n",
        "hour:int = int (24)\n",
        "minute:int = int (60)\n",
        "second:int = int (60)\n",
        "\n",
        "def seconds_in_year():\n",
        "  print(365 * 24 * 60 * 60)\n",
        "\n",
        "\n",
        "\n",
        "if __name__ == \"__main__\":\n",
        "  seconds_in_year()\n"
      ],
      "metadata": {
        "colab": {
          "base_uri": "https://localhost:8080/"
        },
        "id": "1-GbIlsMpNfv",
        "outputId": "a3f0b29b-c4c1-4b19-fc84-9bee289f2a88"
      },
      "execution_count": 28,
      "outputs": [
        {
          "output_type": "stream",
          "name": "stdout",
          "text": [
            "06_seconds_in_year\n",
            "31536000\n"
          ]
        }
      ]
    },
    {
      "cell_type": "code",
      "source": [
        "print(\"07_tiny_mad_lib\")\n",
        "\n",
        "def tiny_mad_lib():\n",
        "  noune: str = str(input(\"enter a noune \"))\n",
        "  adjective: str = str(input(\"enter an adjective \"))\n",
        "  verb: str = str(input(\"enter a verb \"))\n",
        "  print(f'Do you {verb} your {adjective} {noune} That\\'s hilarious!')\n",
        "\n",
        "\n",
        "if __name__ == \"__main__\":\n",
        "  tiny_mad_lib()\n",
        "\n"
      ],
      "metadata": {
        "colab": {
          "base_uri": "https://localhost:8080/"
        },
        "id": "J70gdGoAqBXX",
        "outputId": "3c21b559-79a1-44a1-81b1-333d4deb67e2"
      },
      "execution_count": 29,
      "outputs": [
        {
          "output_type": "stream",
          "name": "stdout",
          "text": [
            "07_tiny_mad_lib\n",
            "enter a noune hat\n",
            "enter an adjective quete\n",
            "enter a verb flip\n",
            "Do you flip your quete hat That's hilarious!\n"
          ]
        }
      ]
    }
  ]
}