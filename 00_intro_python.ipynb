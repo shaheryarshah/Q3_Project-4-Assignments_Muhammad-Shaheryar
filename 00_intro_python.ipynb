{
  "nbformat": 4,
  "nbformat_minor": 0,
  "metadata": {
    "colab": {
      "provenance": [],
      "authorship_tag": "ABX9TyOLkoBgXT5zDF/nA4zAJQQr",
      "include_colab_link": true
    },
    "kernelspec": {
      "name": "python3",
      "display_name": "Python 3"
    },
    "language_info": {
      "name": "python"
    }
  },
  "cells": [
    {
      "cell_type": "markdown",
      "metadata": {
        "id": "view-in-github",
        "colab_type": "text"
      },
      "source": [
        "<a href=\"https://colab.research.google.com/github/shaheryarshah/Q3_Project-4-Assignments_Muhammad-Shaheryar/blob/main/00_intro_python.ipynb\" target=\"_parent\"><img src=\"https://colab.research.google.com/assets/colab-badge.svg\" alt=\"Open In Colab\"/></a>"
      ]
    },
    {
      "cell_type": "code",
      "execution_count": 2,
      "metadata": {
        "colab": {
          "base_uri": "https://localhost:8080/"
        },
        "id": "D-7TvxXGA4hS",
        "outputId": "5c1781f5-6125-4a30-9f28-8569c2e433b5"
      },
      "outputs": [
        {
          "output_type": "stream",
          "name": "stdout",
          "text": [
            "01_add_two_numbers.md\n",
            "this application for add two numbers\n",
            "enter first number10\n",
            "enter second number15\n",
            "the total sum of 10 and 15 is 25\n"
          ]
        }
      ],
      "source": [
        "print(\"01_add_two_numbers\")\n",
        "\n",
        "def add():\n",
        "  print(\"this application for add two numbers\")\n",
        "  first_number = int(input(\"enter first number\"))\n",
        "  second_number = int(input(\"enter second number\"))\n",
        "  total_number = int(first_number + second_number)\n",
        "  print(f'the total sum of {first_number} and {second_number} is {total_number}')\n",
        "\n",
        "if __name__== \"__main__\":\n",
        "  add()\n"
      ]
    },
    {
      "cell_type": "code",
      "source": [
        "print(\"02_agreement_bo\")\n",
        "\n",
        "def bot():\n",
        "  animal = str(input(\"enter your favourite animal name\"))\n",
        "  print(f'My favorite animal is also {animal}!')\n",
        "\n",
        "if __name__== \"__main__\":\n",
        "  bot()"
      ],
      "metadata": {
        "colab": {
          "base_uri": "https://localhost:8080/"
        },
        "id": "Qo0QmBQQEbz_",
        "outputId": "2718a274-399e-4031-d438-af0f78b02c11"
      },
      "execution_count": 3,
      "outputs": [
        {
          "output_type": "stream",
          "name": "stdout",
          "text": [
            "02_agreement_bo\n",
            "enter your favourite animal namedog\n",
            "My favorite animal is also dog!\n"
          ]
        }
      ]
    },
    {
      "cell_type": "code",
      "source": [
        "print(\"03_fahrenheit_to_celsius\")\n",
        "\n",
        "def temperature():\n",
        "  print(\"this application to convert degree fahrenheit to celsius\")\n",
        "  fahrenheit_degree = float(input(\"enter your degree fahrenheit\"))\n",
        "  celsius_degree = (fahrenheit_degree - 32) * 5.0/9.0\n",
        "\n",
        "  print(f'{fahrenheit_degree} degree fahrenheit is equal to {celsius_degree} degree celsius')\n",
        "\n",
        "if __name__== \"__main__\":\n",
        "  temperature()"
      ],
      "metadata": {
        "colab": {
          "base_uri": "https://localhost:8080/"
        },
        "id": "PKcYdvpcFfTf",
        "outputId": "137b9240-d75c-401f-9bab-31f702a0dd4b"
      },
      "execution_count": 5,
      "outputs": [
        {
          "output_type": "stream",
          "name": "stdout",
          "text": [
            "03_fahrenheit_to_celsius\n",
            "this application to convert degree fahrenheit to celsius\n",
            "enter your degree fahrenheit54\n",
            "54.0 degree fahrenheit is equal to 12.222222222222221 degree celsius\n"
          ]
        }
      ]
    },
    {
      "cell_type": "code",
      "source": [
        "print(\"04_age-related riddle!\")\n",
        "def add_age():\n",
        "  anton:int = 21\n",
        "  beth: int = anton + 6\n",
        "  chen: int = beth + 20\n",
        "  drew: int = chen + anton\n",
        "  ethan: int = chen\n",
        "\n",
        "  print(\"Anthon is \" + str(anton))\n",
        "  print(\"Beth is \" + str(beth))\n",
        "  print(\"Chen is \" + str(chen))\n",
        "  print(\"Drew is \" + str(drew))\n",
        "  print(\"Ethan is \" + str(ethan))\n",
        "\n",
        "if __name__ == '__main__':\n",
        "    add_age()\n"
      ],
      "metadata": {
        "colab": {
          "base_uri": "https://localhost:8080/"
        },
        "id": "J_OKnJAgIdBX",
        "outputId": "d34d59be-aa08-495e-b50d-558d069909ab"
      },
      "execution_count": 11,
      "outputs": [
        {
          "output_type": "stream",
          "name": "stdout",
          "text": [
            "age-related riddle!\n",
            "Anthon is 21\n",
            "Beth is 27\n",
            "Chen is 47\n",
            "Drew is 68\n",
            "Ethan is 47\n"
          ]
        }
      ]
    },
    {
      "cell_type": "code",
      "source": [
        "print(\"05_calculate the parameters of triangle\")\n",
        "\n",
        "def triangle():\n",
        "  side_1:float = float(input(\"enter the first side of triangle. \"))\n",
        "  side_2:float = float(input(\"enter the second side of triangle. \"))\n",
        "  side_3:float = float(input(\"enter the third side of triangle. \"))\n",
        "  perimeter:float = float(side_1 + side_2 + side_3)\n",
        "  print(f'the perimeter of triangle is {perimeter}')\n",
        "\n",
        "if __name__ == '__main__':\n",
        "    triangle()"
      ],
      "metadata": {
        "colab": {
          "base_uri": "https://localhost:8080/"
        },
        "id": "2uqslAxmNLn4",
        "outputId": "7ca39e10-5663-490e-8c12-6e00ce7d46a8"
      },
      "execution_count": 14,
      "outputs": [
        {
          "output_type": "stream",
          "name": "stdout",
          "text": [
            "calculate the parameters of triangle\n",
            "enter the first side of triangle. 6.9\n",
            "enter the second side of triangle. 4\n",
            "enter the third side of triangle. 8\n",
            "the perimeter of triangle is 18.9\n"
          ]
        }
      ]
    },
    {
      "cell_type": "code",
      "source": [
        "print(\"06_square_number\")\n",
        "\n",
        "def square():\n",
        "  num1=int(input(\"enter a number then i will convert it to square. \"))\n",
        "  print(f'the square of {num1} is {num1**2}')\n",
        "\n",
        "if __name__ == '__main__':\n",
        "    square()\n",
        "\n"
      ],
      "metadata": {
        "colab": {
          "base_uri": "https://localhost:8080/"
        },
        "id": "tKJ28UXXOpqx",
        "outputId": "1755962d-3046-4d0b-ab39-bfbe17e2502c"
      },
      "execution_count": 17,
      "outputs": [
        {
          "output_type": "stream",
          "name": "stdout",
          "text": [
            "06_square_number\n",
            "enter a number then i will convert it to square. 5\n",
            "the square of 5 is 25\n"
          ]
        }
      ]
    }
  ]
}